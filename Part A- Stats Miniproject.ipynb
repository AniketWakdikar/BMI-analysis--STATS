{
 "cells": [
  {
   "cell_type": "markdown",
   "id": "e71f189d",
   "metadata": {},
   "source": [
    "# PART-A  "
   ]
  },
  {
   "cell_type": "raw",
   "id": "7771872a",
   "metadata": {},
   "source": [
    "Part -I is concept based and walks you through various concepts of descriptive statistics, probability\n",
    "distributions and inferential statistics including confidence intervals and hypothesis testing."
   ]
  },
  {
   "cell_type": "code",
   "execution_count": 62,
   "id": "76ec3010",
   "metadata": {},
   "outputs": [],
   "source": [
    "import numpy as np\n",
    "import statistics \n",
    "import seaborn as sns\n",
    "import matplotlib.pyplot as plt\n",
    "import warnings\n",
    "warnings.filterwarnings(\"ignore\")\n",
    "from scipy.stats import norm\n",
    "from scipy import stats\n",
    "import math"
   ]
  },
  {
   "cell_type": "markdown",
   "id": "853acdcd",
   "metadata": {},
   "source": [
    "Data is about BMI of 50 young adults"
   ]
  },
  {
   "cell_type": "code",
   "execution_count": 1,
   "id": "771b1861",
   "metadata": {},
   "outputs": [],
   "source": [
    "df_bmi=[17.5 ,18.0, 36.8, 31.7, 31.7,17.3 ,24.3, 47.7 ,38.5 ,17.0,23.7, 16.5, 25.1, 17.4, 18.0,37.6, 19.7, 21.4, 28.6, 21.6,\n",
    "      19.3, 20.0, 16.9, 25.2, 19.8,25.0 ,17.2,20.4,20.1 ,29.1,19.1 ,25.2 ,23.2 ,25.9, 24.0,41.7 ,24.0, 16.8, 26.8, 31.4,\n",
    "      16.9 ,17.2, 24.1, 35.2 ,19.1,22.9, 18.2 ,25.4, 35.4, 25.5]"
   ]
  },
  {
   "cell_type": "code",
   "execution_count": 6,
   "id": "b06ef28e",
   "metadata": {},
   "outputs": [
    {
     "data": {
      "text/plain": [
       "50"
      ]
     },
     "execution_count": 6,
     "metadata": {},
     "output_type": "execute_result"
    }
   ],
   "source": [
    "len(df_bmi)"
   ]
  },
  {
   "cell_type": "raw",
   "id": "3e0f4a50",
   "metadata": {},
   "source": [
    "Q1. Compute the mean, median and the mode of the data"
   ]
  },
  {
   "cell_type": "code",
   "execution_count": 7,
   "id": "37d78d73",
   "metadata": {},
   "outputs": [
    {
     "name": "stdout",
     "output_type": "stream",
     "text": [
      "Mean: 24.422\n",
      "Median: 23.45\n",
      "Mode: 18.0\n"
     ]
    }
   ],
   "source": [
    "mean_value = statistics.mean(df_bmi)\n",
    "median_value = statistics.median(df_bmi)\n",
    "mode_value = statistics.mode(df_bmi)\n",
    "\n",
    "print(\"Mean:\", mean_value)\n",
    "print(\"Median:\", median_value)\n",
    "print(\"Mode:\", mode_value)"
   ]
  },
  {
   "cell_type": "markdown",
   "id": "9917a6f6",
   "metadata": {},
   "source": [
    "Q2. Compute the range , variance and standard deviation of BMI"
   ]
  },
  {
   "cell_type": "code",
   "execution_count": 8,
   "id": "71e0aa4d",
   "metadata": {},
   "outputs": [
    {
     "name": "stdout",
     "output_type": "stream",
     "text": [
      "Range: 31.2\n",
      "Variance: 54.561\n",
      "Standard Deviation: 7.387\n"
     ]
    }
   ],
   "source": [
    "range_value = max(df_bmi) - min(df_bmi)\n",
    "variance_value = statistics.variance(df_bmi)\n",
    "std_deviation_value = statistics.stdev(df_bmi)\n",
    "\n",
    "print(\"Range:\", round(range_value,3))\n",
    "print(\"Variance:\", round(variance_value,3))\n",
    "print(\"Standard Deviation:\", round(std_deviation_value,3))"
   ]
  },
  {
   "cell_type": "raw",
   "id": "7c4e07a4",
   "metadata": {},
   "source": [
    "Q3. Find the mean deviation for the data . The mean deviation is defined as below =summation|(x-x_bar)|/n"
   ]
  },
  {
   "cell_type": "code",
   "execution_count": 10,
   "id": "72890459",
   "metadata": {},
   "outputs": [
    {
     "name": "stdout",
     "output_type": "stream",
     "text": [
      "Mean Deviation: 5.642\n"
     ]
    }
   ],
   "source": [
    "mean_value = statistics.mean(df_bmi)\n",
    "mean_deviation = sum(abs(x - mean_value) for x in df_bmi) / len(df_bmi)\n",
    "\n",
    "print(\"Mean Deviation:\", round(mean_deviation,3))"
   ]
  },
  {
   "cell_type": "raw",
   "id": "fda83627",
   "metadata": {},
   "source": [
    "Q4. Calculate the Pearson coefficient of skewness and comment on the skewness of the data"
   ]
  },
  {
   "cell_type": "code",
   "execution_count": 15,
   "id": "332548eb",
   "metadata": {},
   "outputs": [
    {
     "name": "stdout",
     "output_type": "stream",
     "text": [
      "Pearson Coefficient of Skewness: 0.395\n",
      "Skewness Interpretation: The distribution is positively skewed.\n"
     ]
    }
   ],
   "source": [
    "skewness = 3 * (mean_value - median_value) / std_deviation_value\n",
    "\n",
    "if skewness > 0:\n",
    "    skewness_interpretation = \"The distribution is positively skewed.\"\n",
    "elif skewness < 0:\n",
    "    skewness_interpretation = \"The distribution is negatively skewed.\"\n",
    "else:\n",
    "    skewness_interpretation = \"The distribution is symmetric.\"\n",
    "\n",
    "print(\"Pearson Coefficient of Skewness:\", round(skewness,3))\n",
    "print(\"Skewness Interpretation:\", skewness_interpretation)"
   ]
  },
  {
   "cell_type": "raw",
   "id": "938f928d",
   "metadata": {},
   "source": [
    "Q5. Count the number of data values that fall within one standard deviation of the mean. Compare this with the answer from         Chebyshev’s Theorem."
   ]
  },
  {
   "cell_type": "code",
   "execution_count": 17,
   "id": "7d029012",
   "metadata": {},
   "outputs": [
    {
     "name": "stdout",
     "output_type": "stream",
     "text": [
      "Number of data values within one standard deviation: 38\n",
      "Chebyshev's Theorem prediction: 0.75\n"
     ]
    }
   ],
   "source": [
    "# Count the number of data values within one standard deviation of the mean\n",
    "within_one_std_dev_count = sum(1 for x in df_bmi if abs(x - mean_value) <= std_deviation_value)\n",
    "#According to Chebyshev's Theorem, at least (1 - 1/k^2) of the data values are within k standard deviations from the mean,\n",
    "#where k is a constant greater than 1.\n",
    "\n",
    "# Calculate Chebyshev's Theorem prediction\n",
    "chebyshev_k = 2  # We are looking within 2 standard deviations for comparison\n",
    "chebyshev_prediction = 1 - 1 / (chebyshev_k ** 2)\n",
    "\n",
    "print(\"Number of data values within one standard deviation:\", within_one_std_dev_count)\n",
    "print(\"Chebyshev's Theorem prediction:\", chebyshev_prediction)"
   ]
  },
  {
   "cell_type": "markdown",
   "id": "af4223e1",
   "metadata": {},
   "source": [
    "Q6. Find the three quartiles and the interquartile range (IQR)."
   ]
  },
  {
   "cell_type": "code",
   "execution_count": 20,
   "id": "d727580c",
   "metadata": {},
   "outputs": [
    {
     "name": "stdout",
     "output_type": "stream",
     "text": [
      "Q1 (25th Percentile): 18.425\n",
      "Q2 (Median, 50th Percentile): 23.45\n",
      "Q3 (75th Percentile): 26.575\n",
      "Interquartile Range (IQR): 8.15\n"
     ]
    }
   ],
   "source": [
    "q1 = np.percentile(df_bmi, 25)\n",
    "q2 = np.percentile(df_bmi, 50)\n",
    "q3 = np.percentile(df_bmi, 75)\n",
    "iqr = q3 - q1\n",
    "print(\"Q1 (25th Percentile):\", q1)\n",
    "print(\"Q2 (Median, 50th Percentile):\", q2)\n",
    "print(\"Q3 (75th Percentile):\", q3)\n",
    "print(\"Interquartile Range (IQR):\", round(iqr,3))"
   ]
  },
  {
   "cell_type": "markdown",
   "id": "011ff64f",
   "metadata": {},
   "source": [
    "Q7. Are there any outliers in the data set ?"
   ]
  },
  {
   "cell_type": "code",
   "execution_count": 23,
   "id": "f77e1d8d",
   "metadata": {},
   "outputs": [
    {
     "name": "stdout",
     "output_type": "stream",
     "text": [
      "Potential Outliers: [47.7, 41.7]\n"
     ]
    }
   ],
   "source": [
    "lower_bound = q1 - 1.5 * iqr\n",
    "upper_bound = q3 + 1.5 * iqr\n",
    "\n",
    "outliers = [x for x in df_bmi if x < lower_bound or x > upper_bound]\n",
    "\n",
    "print(\"Potential Outliers:\", outliers)"
   ]
  },
  {
   "cell_type": "code",
   "execution_count": null,
   "id": "9bf7a3a3",
   "metadata": {},
   "outputs": [],
   "source": [
    "Q8. Draw a boxplot of the dataset to confirm ."
   ]
  },
  {
   "cell_type": "code",
   "execution_count": 27,
   "id": "66998ad2",
   "metadata": {},
   "outputs": [
    {
     "data": {
      "image/png": "[encoded data removed]",
      "text/plain": [
       "<Figure size 640x480 with 1 Axes>"
      ]
     },
     "metadata": {},
     "output_type": "display_data"
    }
   ],
   "source": [
    "sns.boxplot(x=df_bmi)\n",
    "plt.title(\"Boxplot of BMI Data\")\n",
    "plt.xlabel(\"BMI\")\n",
    "plt.show()"
   ]
  },
  {
   "cell_type": "markdown",
   "id": "be638dda",
   "metadata": {},
   "source": [
    "Q9. Find the percentile rank of the datapoint 25.0."
   ]
  },
  {
   "cell_type": "code",
   "execution_count": 28,
   "id": "5855d8f2",
   "metadata": {},
   "outputs": [
    {
     "name": "stdout",
     "output_type": "stream",
     "text": [
      "Percentile Rank of 25.0 : 62.0\n"
     ]
    }
   ],
   "source": [
    "data_point = 25.0\n",
    "num_less_than_or_equal = sum(1 for x in df_bmi if x <= data_point)\n",
    "total_data_points = len(df_bmi)\n",
    "\n",
    "percentile_rank = (num_less_than_or_equal / total_data_points) * 100\n",
    "\n",
    "print(\"Percentile Rank of\", data_point, \":\", percentile_rank)"
   ]
  },
  {
   "cell_type": "markdown",
   "id": "62affe29",
   "metadata": {},
   "source": [
    "Q10. What is the probability that a young adult has a BMI above 25.0?"
   ]
  },
  {
   "cell_type": "code",
   "execution_count": 35,
   "id": "b4e4960f",
   "metadata": {},
   "outputs": [
    {
     "name": "stdout",
     "output_type": "stream",
     "text": [
      "Probability of having a BMI above 25.0 : 0.469\n"
     ]
    }
   ],
   "source": [
    "probability_above = 1 - norm.cdf(x=25.0, loc=, scale=std_deviation_value)\n",
    "\n",
    "print(\"Probability of having a BMI above\", data_point, \":\", round(probability_above,3))"
   ]
  },
  {
   "cell_type": "code",
   "execution_count": 41,
   "id": "23f33cd0",
   "metadata": {},
   "outputs": [
    {
     "name": "stdout",
     "output_type": "stream",
     "text": [
      "Probability of having a BMI above 25.0 : 0.469\n"
     ]
    }
   ],
   "source": [
    "a=stats.norm.sf(x=25.0, loc =mean_value, scale = std_deviation_value) \n",
    "print(\"Probability of having a BMI above\", data_point, \":\", round(a,3))"
   ]
  },
  {
   "cell_type": "markdown",
   "id": "12848de0",
   "metadata": {},
   "source": [
    "Q11. Create a frequency distribution for the data and visualize it appropriately"
   ]
  },
  {
   "cell_type": "code",
   "execution_count": 38,
   "id": "07159262",
   "metadata": {},
   "outputs": [
    {
     "data": {
      "image/png": "[encoded data removed]",
      "text/plain": [
       "<Figure size 800x600 with 1 Axes>"
      ]
     },
     "metadata": {},
     "output_type": "display_data"
    }
   ],
   "source": [
    "plt.figure(figsize=(8, 6))\n",
    "plt.hist(df_bmi, bins=10, edgecolor='black')\n",
    "plt.title(\"Frequency Distribution of BMI\")\n",
    "plt.xlabel(\"BMI\")\n",
    "plt.ylabel(\"Frequency\")\n",
    "plt.grid(True)\n",
    "\n",
    "plt.show()"
   ]
  },
  {
   "cell_type": "markdown",
   "id": "6c4832d6",
   "metadata": {},
   "source": [
    "Q12. Create a probability distribution of the data and visualize it appropriately."
   ]
  },
  {
   "cell_type": "code",
   "execution_count": 44,
   "id": "d6a9ad70",
   "metadata": {},
   "outputs": [
    {
     "data": {
      "image/png": "[encoded data removed]",
      "text/plain": [
       "<Figure size 800x600 with 1 Axes>"
      ]
     },
     "metadata": {},
     "output_type": "display_data"
    }
   ],
   "source": [
    "total_data_points = len(df_bmi)\n",
    "# Calculate the unique values and their frequencies\n",
    "unique_values, counts = np.unique(df_bmi, return_counts=True)\n",
    "# Calculate the probability of each value\n",
    "probabilities = counts / total_data_points\n",
    "\n",
    "plt.figure(figsize=(8, 6))\n",
    "plt.bar(unique_values, probabilities, edgecolor='black')\n",
    "plt.title(\"Probability Distribution of BMI\")\n",
    "plt.xlabel(\"BMI\")\n",
    "plt.ylabel(\"Probability\")\n",
    "plt.grid(True)\n",
    "plt.show()"
   ]
  },
  {
   "cell_type": "markdown",
   "id": "abc6aac5",
   "metadata": {},
   "source": [
    "Q13. What is the shape of the distribution of this dataset? Create an appropriate graph to determine that. \n",
    "    Take 100 random  samples with replacement from this dataset of size 5 each. Create a sampling distribution of the\n",
    "    mean age of adults. Compare with other sampling distributions of sample size 10, 15, 20, 25, 30. State your observations. \n",
    "    Does it corroborate the Central Limit Theorem"
   ]
  },
  {
   "cell_type": "code",
   "execution_count": 49,
   "id": "a3d6ebd3",
   "metadata": {
    "scrolled": true
   },
   "outputs": [
    {
     "data": {
      "image/png": "[encoded data removed]",
      "text/plain": [
       "<Figure size 600x400 with 1 Axes>"
      ]
     },
     "metadata": {},
     "output_type": "display_data"
    }
   ],
   "source": [
    "plt.figure(figsize=(6, 4))\n",
    "sns.histplot(df_bmi, bins=15, kde=True)\n",
    "plt.title(\"Distribution of BMI Data\")\n",
    "plt.xlabel(\"BMI\")\n",
    "plt.ylabel(\"Frequency / Density\")\n",
    "plt.grid(True)\n",
    "plt.show()"
   ]
  },
  {
   "cell_type": "code",
   "execution_count": null,
   "id": "2ce11797",
   "metadata": {},
   "outputs": [],
   "source": [
    "#Dataset is right-skewed "
   ]
  },
  {
   "cell_type": "code",
   "execution_count": 48,
   "id": "6701be73",
   "metadata": {
    "scrolled": true
   },
   "outputs": [
    {
     "data": {
      "image/png": "[encoded data removed]",
      "text/plain": [
       "<Figure size 1200x800 with 6 Axes>"
      ]
     },
     "metadata": {},
     "output_type": "display_data"
    }
   ],
   "source": [
    "num_samples = 100\n",
    "sample_sizes = [5, 10, 15, 20, 25, 30]\n",
    "\n",
    "# Function to generate sampling distribution of means\n",
    "def sampling_distribution_means(data, sample_size, num_samples):\n",
    "    sampling_means = []\n",
    "    for _ in range(num_samples):\n",
    "        sample = np.random.choice(data, size=sample_size, replace=True)\n",
    "        sample_mean = np.mean(sample)\n",
    "        sampling_means.append(sample_mean)\n",
    "    return sampling_means\n",
    "\n",
    "plt.figure(figsize=(12, 8))\n",
    "\n",
    "# Create sampling distributions for different sample sizes\n",
    "for idx, sample_size in enumerate(sample_sizes, start=1):\n",
    "    sampling_means = sampling_distribution_means(df_bmi, sample_size, num_samples)\n",
    "    plt.subplot(2, 3, idx)\n",
    "    plt.hist(sampling_means, bins=15, edgecolor='black')\n",
    "    plt.title(f\"Sampling Distribution (n={sample_size})\")\n",
    "\n",
    "plt.tight_layout()\n",
    "plt.show()"
   ]
  },
  {
   "cell_type": "markdown",
   "id": "34539fc3",
   "metadata": {},
   "source": [
    "The observed convergence of sampling distributions towards normality and increased accuracy of sample mean estimation with larger sample sizes confirms the Central Limit Theorem's validity in approximating normality of sample means from any underlying distribution."
   ]
  },
  {
   "cell_type": "markdown",
   "id": "78448174",
   "metadata": {},
   "source": [
    "Q14. Treat this dataset as a binomial distribution where p is the probability that a young adult has a BMI above 25.0. \n",
    "     What is the probability that out of a  random sample of 10 young adults exactly 6 are having BMI greater than 25.0?\n"
   ]
  },
  {
   "cell_type": "code",
   "execution_count": 54,
   "id": "79102824",
   "metadata": {},
   "outputs": [
    {
     "name": "stdout",
     "output_type": "stream",
     "text": [
      "Probability of exactly 6 young adults having BMI > 25.0: 0.1777\n"
     ]
    }
   ],
   "source": [
    "from scipy.stats import binom\n",
    "# calculate cdf\n",
    "binomial_probability=binom.pmf(k=6, n=10, p=0.469)\n",
    "print(\"Probability of exactly 6 young adults having BMI > 25.0:\", round(binomial_probability,4))"
   ]
  },
  {
   "cell_type": "markdown",
   "id": "fe6c7a79",
   "metadata": {},
   "source": [
    "Q15. A study claims that 40% of all young adults have BMI greater than 25.0.Using the Normal approximation of a \n",
    "     Binomial  distribution, find the probability that in a random sample of 100 young adults exactly 50 of them will have will\n",
    "     have a BMI is greater than 25.0.\n",
    "--Note that the normal distribution can be used to approximate a binomial\n",
    "distribution if np>=5 and nq>=5 with the following correction for continuity\n",
    "P(X=z) = P(z-0.5 < X < z+0.5 )"
   ]
  },
  {
   "cell_type": "code",
   "execution_count": 56,
   "id": "0e4ef52e",
   "metadata": {},
   "outputs": [
    {
     "name": "stdout",
     "output_type": "stream",
     "text": [
      "Probability of exactly 50 young adults having BMI > 25.0: 0.0102\n"
     ]
    }
   ],
   "source": [
    "k = 50  # Number of successes (young adults with BMI > 25.0)\n",
    "n = 100  # Sample size\n",
    "p = 0.4  # Probability of success\n",
    "\n",
    "# Calculate mean and standard deviation for the normal approximation\n",
    "mean = n * p\n",
    "std_deviation = (n * p * (1 - p)) ** 0.5\n",
    "\n",
    "# Calculate the probability using the continuity correction\n",
    "probability = norm.cdf(k + 0.5, loc=mean, scale=std_deviation) - norm.cdf(k - 0.5, loc=mean, scale=std_deviation)\n",
    "\n",
    "print(\"Probability of exactly 50 young adults having BMI > 25.0:\", round(probability,4))"
   ]
  },
  {
   "cell_type": "markdown",
   "id": "c4d68da8",
   "metadata": {},
   "source": [
    "Q16. Compute a 95% Confidence Interval for the true BMI of the population of young adults using appropriate distribution.\n",
    "     ( State reasons as to why did you use a z or t distribution)"
   ]
  },
  {
   "cell_type": "code",
   "execution_count": 60,
   "id": "15a89dff",
   "metadata": {},
   "outputs": [
    {
     "name": "stdout",
     "output_type": "stream",
     "text": [
      "95% Confidence Interval for the true BMI of the population (using t-distribution):\n",
      "Lower bound: 22.37459391499824\n",
      "Upper bound: 26.46940608500176\n"
     ]
    }
   ],
   "source": [
    "from scipy import stats\n",
    "\n",
    "# Assuming you have calculated mean_value and sample_std_value (sample standard deviation)\n",
    "confidence_level = 0.95\n",
    "sample_size = 50  # Make sure to use the correct sample size\n",
    "degrees_of_freedom = sample_size - 1  # Degrees of freedom for t-distribution\n",
    "\n",
    "# Calculate the t-score for the desired confidence level and degrees of freedom\n",
    "t_score = stats.t.ppf((1 + confidence_level) / 2, df=degrees_of_freedom)\n",
    "\n",
    "# Calculate the confidence interval using the t-distribution\n",
    "interval = stats.norm.interval(confidence_level, loc=mean_value, scale=std_deviation_value/np.sqrt(sample_size))\n",
    "\n",
    "print(\"95% Confidence Interval for the true BMI of the population (using t-distribution):\")\n",
    "print(\"Lower bound:\", interval[0])\n",
    "print(\"Upper bound:\", interval[1])"
   ]
  },
  {
   "cell_type": "markdown",
   "id": "42aa6216",
   "metadata": {},
   "source": [
    "The decision to use a t-distribution or a z-distribution depends on whether the population standard deviation is known or unknown. In our case, since we are working with a sample of BMI data (`df_bmi`), the population standard deviation is not known, and therefore we use a t-distribution."
   ]
  },
  {
   "cell_type": "markdown",
   "id": "f4f86cda",
   "metadata": {},
   "source": [
    "Q17. A data scientist wants to estimate with 95% confidence the proportion of young adults having BMI greater than 25.0. \n",
    "      A recent study showed that 40% of all young adults have BMI greater than 25.0. The data scientist wants to be\n",
    "      accurate within 2% of the true proportion. Find the minimum sample size necessary"
   ]
  },
  {
   "cell_type": "code",
   "execution_count": 67,
   "id": "905b2965",
   "metadata": {},
   "outputs": [
    {
     "name": "stdout",
     "output_type": "stream",
     "text": [
      "Minimum sample size necessary: 24\n"
     ]
    }
   ],
   "source": [
    "confidence_level = 0.95\n",
    "estimated_proportion = 0.40\n",
    "desired_margin_of_error = 0.02\n",
    "\n",
    "# Calculate the z-score for the desired confidence level\n",
    "z_score = norm.ppf(1 - (1 - confidence_level) / 2)\n",
    "\n",
    "# Calculate the minimum required sample size\n",
    "required_sample_size = (z_score*2 * estimated_proportion * (1 - estimated_proportion)) / (desired_margin_of_error*2)\n",
    "required_sample_size = int(math.ceil(required_sample_size))  # Round up to the nearest integer\n",
    "\n",
    "print(\"Minimum sample size necessary:\", required_sample_size)"
   ]
  },
  {
   "cell_type": "markdown",
   "id": "d8f9e36f",
   "metadata": {},
   "source": [
    "Q18. The same data scientist wants to estimate the true proportion of young adults having BMI greater than 25.0.\n",
    "     She wants to be 90% confident and accurate within 5% of true proportion. Find the minimum sample size necessary."
   ]
  },
  {
   "cell_type": "code",
   "execution_count": 68,
   "id": "a120c025",
   "metadata": {},
   "outputs": [
    {
     "name": "stdout",
     "output_type": "stream",
     "text": [
      "Minimum sample size necessary: 8\n"
     ]
    }
   ],
   "source": [
    "from scipy.stats import norm\n",
    "\n",
    "confidence_level = 0.90\n",
    "estimated_proportion = 0.40\n",
    "desired_margin_of_error = 0.05\n",
    "\n",
    "# Calculate the z-score for the desired confidence level\n",
    "z_score = norm.ppf(1 - (1 - confidence_level) / 2)\n",
    "\n",
    "# Calculate the minimum required sample size\n",
    "required_sample_size = (z_score*2 * estimated_proportion * (1 - estimated_proportion)) / (desired_margin_of_error*2)\n",
    "required_sample_size = int(math.ceil(required_sample_size))  # Round up to the nearest integer\n",
    "\n",
    "print(\"Minimum sample size necessary:\", required_sample_size)"
   ]
  },
  {
   "cell_type": "markdown",
   "id": "449cef26",
   "metadata": {},
   "source": [
    "Q19. A researcher claims that currently 55% of all young adults have BMI greater than 25 . \n",
    "      Test his claim with an alpha =0.05 if out of a random sample of 30 CEOs only 20 are having BMI above 25\n"
   ]
  },
  {
   "cell_type": "markdown",
   "id": "49ec7fe3",
   "metadata": {},
   "source": [
    "The null and alternative hypothesis is:\n",
    "H0: p!=0.55\n",
    "H1: p=0.55 Here ⍺ = 0.05,Here ⍺ = 0.05, for a two-tailed test calculate the critical z-value."
   ]
  },
  {
   "cell_type": "code",
   "execution_count": 75,
   "id": "dc2b39a9",
   "metadata": {},
   "outputs": [
    {
     "name": "stdout",
     "output_type": "stream",
     "text": [
      "Test statistic: 1.36\n",
      "P-value: 0.174\n",
      "Fail to reject the null hypothesis.\n",
      "There is not enough evidence to support the researcher's claim.\n"
     ]
    }
   ],
   "source": [
    "\n",
    "# Define the sample proportion, sample size, hypothesized population proportion, and significance level\n",
    "p_hat = 0.667\n",
    "n = 30\n",
    "p_0 = 0.55\n",
    "alpha = 0.05\n",
    "\n",
    "# Calculate the test statistic and the p-value using the stats module\n",
    "z, p = sm.stats.proportions_ztest(p_hat * n, n, p_0, alternative=\"two-sided\")\n",
    "\n",
    "# Print the results\n",
    "print(f\"Test statistic: {z:.2f}\")\n",
    "print(f\"P-value: {p:.3f}\")\n",
    "\n",
    "# Compare the p-value with the significance level and make a conclusion\n",
    "if p < alpha:\n",
    "    print(\"Reject the null hypothesis.\")\n",
    "    print(\"There is enough evidence to support the researcher's claim.\")\n",
    "else:\n",
    "    print(\"Fail to reject the null hypothesis.\")\n",
    "    print(\"There is not enough evidence to support the researcher's claim.\")"
   ]
  },
  {
   "cell_type": "markdown",
   "id": "6982aceb",
   "metadata": {},
   "source": [
    "Q 20. A data scientist is researching the hypothesis that there is no difference between BMI of public vs private schools    students. So he collects data from the two schools and finds that the proportion of public school students whose BMI is above\n",
    "25.0 is 31.8 % vs Private school students is 38.7 %. Suppose the data scientist got these values after interviewing 500 students of each school.\n",
    "\n",
    "a. What hypothesis would he use to compare the proportions of students having BMI greater than 25.0 among both the schools.\n",
    "b. What are critical values to be used?\n",
    "c. What statistical test will be used to compare these proportions ?\n",
    "d. Complete the test and obtain the P-value.\n",
    "e. Summarize his conclusion based on the P-value."
   ]
  },
  {
   "cell_type": "markdown",
   "id": "e1a3a4b1",
   "metadata": {},
   "source": [
    "(a) What hypothesis would he use to compare the proportions of students having BMI greater than 25.0 among both the schools."
   ]
  },
  {
   "cell_type": "markdown",
   "id": "a2af2a09",
   "metadata": {},
   "source": [
    "Null Hypothesis (H_0): There is no difference between the proportions of students with BMI greater than 25.0 in public and private schools.\n",
    "Alternative Hypothesis (H_1):There is a difference between the proportions of students with BMI greater than 25.0 in public and private schools."
   ]
  },
  {
   "cell_type": "code",
   "execution_count": 77,
   "id": "51fa6955",
   "metadata": {},
   "outputs": [
    {
     "name": "stdout",
     "output_type": "stream",
     "text": [
      "Reject the null hypothesis. There is a significant difference between the proportions of students with BMI > 25.0 in public and private schools.\n"
     ]
    }
   ],
   "source": [
    "import statsmodels.api as sm\n",
    "\n",
    "# Given values\n",
    "public_students = 500\n",
    "private_students = 500\n",
    "public_students_above_25 = 0.318 * public_students\n",
    "private_students_above_25 = 0.387 * private_students\n",
    "\n",
    "# Perform the z-test for proportions\n",
    "z_statistic, p_value = sm.stats.proportions_ztest([public_students_above_25, private_students_above_25], \n",
    "                                                  [public_students, private_students])\n",
    "\n",
    "alpha = 0.05\n",
    "\n",
    "if p_value < alpha:\n",
    "    print(\"Reject the null hypothesis. There is a significant difference between the proportions of students with BMI > 25.0 in public and private schools.\")\n",
    "else:\n",
    "    print(\"Fail to reject the null hypothesis. There is no significant difference between the proportions of students with BMI > 25.0 in public and private schools.\")"
   ]
  },
  {
   "cell_type": "markdown",
   "id": "6ac1c39b",
   "metadata": {},
   "source": [
    "(b). What are critical values to be used?"
   ]
  },
  {
   "cell_type": "code",
   "execution_count": 78,
   "id": "7065fce5",
   "metadata": {},
   "outputs": [
    {
     "name": "stdout",
     "output_type": "stream",
     "text": [
      "Critical value for the lower tail: -1.9599639845400545\n",
      "Critical value for the upper tail: 1.959963984540054\n"
     ]
    }
   ],
   "source": [
    "alpha = 0.05\n",
    "# Calculate the critical values (z-scores) for a two-tailed test\n",
    "critical_value_lower = norm.ppf(alpha / 2)\n",
    "critical_value_upper = norm.ppf(1 - alpha / 2)\n",
    "\n",
    "print(\"Critical value for the lower tail:\", critical_value_lower)\n",
    "print(\"Critical value for the upper tail:\", critical_value_upper)"
   ]
  },
  {
   "cell_type": "markdown",
   "id": "c43ec9fb",
   "metadata": {},
   "source": [
    "(c). What statistical test will be used to compare these proportions ?"
   ]
  },
  {
   "cell_type": "markdown",
   "id": "c35c0f32",
   "metadata": {},
   "source": [
    "The appropriate statistical test to compare proportions in this scenario is the Z-test for Two Proportions. This test is used when you want to compare two proportions to determine if they are significantly different from each other. It's especially useful when you have two independent samples, each with its own proportion of success (e.g., proportions of students with BMI greater than 25.0 in public and private schools)."
   ]
  },
  {
   "cell_type": "markdown",
   "id": "555893c9",
   "metadata": {},
   "source": [
    "(d). Complete the test and obtain the P-value."
   ]
  },
  {
   "cell_type": "code",
   "execution_count": 79,
   "id": "e407ea35",
   "metadata": {},
   "outputs": [
    {
     "name": "stdout",
     "output_type": "stream",
     "text": [
      "Z-statistic: -2.283597968755619\n",
      "P-value: 0.022395169275568342\n"
     ]
    }
   ],
   "source": [
    "public_students = 500\n",
    "private_students = 500\n",
    "public_students_above_25 = 0.318 * public_students\n",
    "private_students_above_25 = 0.387 * private_students\n",
    "\n",
    "# Perform the z-test for proportions\n",
    "z_statistic, p_value = sm.stats.proportions_ztest([public_students_above_25, private_students_above_25], \n",
    "                                                  [public_students, private_students])\n",
    "\n",
    "print(\"Z-statistic:\", z_statistic)\n",
    "print(\"P-value:\", p_value)"
   ]
  },
  {
   "cell_type": "markdown",
   "id": "bfc87265",
   "metadata": {},
   "source": [
    "(e). Summarize his conclusion based on the P-value."
   ]
  },
  {
   "cell_type": "markdown",
   "id": "6aa563e5",
   "metadata": {},
   "source": [
    "Based on the p-value obtained from the Z-test for Two Proportions, the data scientist can draw a conclusion regarding the hypothesis that there is no difference between the BMI proportions of public and private school students.\n",
    "\n",
    "If the p-value is less than the chosen significance level (α), which is often set at 0.05, the data scientist would reject the null hypothesis. This would suggest that there is a statistically significant difference between the proportions of students with BMI greater than 25.0 in public and private schools.\n",
    "\n",
    "If the p-value is greater than or equal to  α, the data scientist would fail to reject the null hypothesis. In this case, there isn't enough evidence to suggest a significant difference between the proportions of students with BMI greater than 25.0 in public and private schools."
   ]
  },
  {
   "cell_type": "code",
   "execution_count": null,
   "id": "1a5e581e",
   "metadata": {},
   "outputs": [],
   "source": []
  },
  {
   "cell_type": "code",
   "execution_count": null,
   "id": "c0d027d0",
   "metadata": {},
   "outputs": [],
   "source": []
  },
  {
   "cell_type": "code",
   "execution_count": null,
   "id": "9973d3f4",
   "metadata": {},
   "outputs": [],
   "source": []
  },
  {
   "cell_type": "code",
   "execution_count": null,
   "id": "a8ebed77",
   "metadata": {},
   "outputs": [],
   "source": []
  },
  {
   "cell_type": "code",
   "execution_count": null,
   "id": "cb852220",
   "metadata": {},
   "outputs": [],
   "source": []
  },
  {
   "cell_type": "code",
   "execution_count": null,
   "id": "c3e65a4d",
   "metadata": {},
   "outputs": [],
   "source": []
  },
  {
   "cell_type": "code",
   "execution_count": null,
   "id": "dbdc30ee",
   "metadata": {},
   "outputs": [],
   "source": []
  },
  {
   "cell_type": "code",
   "execution_count": null,
   "id": "be7dbf61",
   "metadata": {},
   "outputs": [],
   "source": []
  },
  {
   "cell_type": "code",
   "execution_count": null,
   "id": "11639ebe",
   "metadata": {},
   "outputs": [],
   "source": []
  },
  {
   "cell_type": "code",
   "execution_count": null,
   "id": "2d1048b4",
   "metadata": {},
   "outputs": [],
   "source": []
  },
  {
   "cell_type": "code",
   "execution_count": null,
   "id": "df00023e",
   "metadata": {},
   "outputs": [],
   "source": []
  },
  {
   "cell_type": "code",
   "execution_count": null,
   "id": "3031bcd1",
   "metadata": {},
   "outputs": [],
   "source": []
  },
  {
   "cell_type": "code",
   "execution_count": null,
   "id": "f416e984",
   "metadata": {},
   "outputs": [],
   "source": []
  },
  {
   "cell_type": "code",
   "execution_count": null,
   "id": "9eb0a499",
   "metadata": {},
   "outputs": [],
   "source": []
  },
  {
   "cell_type": "code",
   "execution_count": null,
   "id": "f37c7368",
   "metadata": {},
   "outputs": [],
   "source": []
  },
  {
   "cell_type": "code",
   "execution_count": null,
   "id": "2e1a75eb",
   "metadata": {},
   "outputs": [],
   "source": []
  },
  {
   "cell_type": "code",
   "execution_count": null,
   "id": "7e13c0ba",
   "metadata": {},
   "outputs": [],
   "source": []
  },
  {
   "cell_type": "code",
   "execution_count": null,
   "id": "a4884829",
   "metadata": {},
   "outputs": [],
   "source": []
  },
  {
   "cell_type": "code",
   "execution_count": null,
   "id": "17277785",
   "metadata": {},
   "outputs": [],
   "source": []
  },
  {
   "cell_type": "code",
   "execution_count": null,
   "id": "f29c50be",
   "metadata": {},
   "outputs": [],
   "source": []
  },
  {
   "cell_type": "code",
   "execution_count": null,
   "id": "34bc5c4e",
   "metadata": {},
   "outputs": [],
   "source": []
  },
  {
   "cell_type": "code",
   "execution_count": null,
   "id": "f5853402",
   "metadata": {},
   "outputs": [],
   "source": []
  },
  {
   "cell_type": "code",
   "execution_count": null,
   "id": "7c08b6ed",
   "metadata": {},
   "outputs": [],
   "source": []
  },
  {
   "cell_type": "code",
   "execution_count": null,
   "id": "3697f951",
   "metadata": {},
   "outputs": [],
   "source": []
  },
  {
   "cell_type": "code",
   "execution_count": null,
   "id": "5826f9dc",
   "metadata": {},
   "outputs": [],
   "source": []
  },
  {
   "cell_type": "code",
   "execution_count": null,
   "id": "2d0a51c0",
   "metadata": {},
   "outputs": [],
   "source": []
  },
  {
   "cell_type": "code",
   "execution_count": null,
   "id": "c58e1838",
   "metadata": {},
   "outputs": [],
   "source": []
  }
 ],
 "metadata": {
  "kernelspec": {
   "display_name": "Python 3 (ipykernel)",
   "language": "python",
   "name": "python3"
  },
  "language_info": {
   "codemirror_mode": {
    "name": "ipython",
    "version": 3
   },
   "file_extension": ".py",
   "mimetype": "text/x-python",
   "name": "python",
   "nbconvert_exporter": "python",
   "pygments_lexer": "ipython3",
   "version": "3.9.13"
  }
 },
 "nbformat": 4,
 "nbformat_minor": 5
}
